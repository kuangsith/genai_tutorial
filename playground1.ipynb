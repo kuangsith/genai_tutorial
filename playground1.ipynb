{
 "cells": [
  {
   "attachments": {},
   "cell_type": "markdown",
   "metadata": {},
   "source": [
    "# Generative AI playground\n",
    "Quick start: pip install -q -U google-genai\n"
   ]
  },
  {
   "cell_type": "markdown",
   "metadata": {},
   "source": [
    "## import stuff"
   ]
  },
  {
   "cell_type": "code",
   "execution_count": 3,
   "metadata": {},
   "outputs": [],
   "source": [
    "import config\n",
    "from google import genai\n",
    "from google.genai import types\n",
    "from IPython.display import Markdown\n",
    "\n",
    "# import google.generativeai as genai\n",
    "\n",
    "# Rest of your code remains the same\n",
    "\n"
   ]
  },
  {
   "attachments": {},
   "cell_type": "markdown",
   "metadata": {},
   "source": [
    "## Connect to gemini\n",
    "only need to do this once"
   ]
  },
  {
   "cell_type": "code",
   "execution_count": 4,
   "metadata": {},
   "outputs": [],
   "source": [
    "client = genai.Client(api_key=config.apikey)"
   ]
  },
  {
   "attachments": {},
   "cell_type": "markdown",
   "metadata": {},
   "source": [
    "## Code base: basic text generation"
   ]
  },
  {
   "cell_type": "code",
   "execution_count": null,
   "metadata": {},
   "outputs": [],
   "source": [
    "\n",
    "response = client.models.generate_content(\n",
    "    model=\"gemini-2.0-flash\",\n",
    "    contents=\"Discuss differences and similarity between Pikachu and Lord Voldermort in less than 100 words\",\n",
    ")\n",
    "\n",
    "display(Markdown(response.text))"
   ]
  },
  {
   "attachments": {},
   "cell_type": "markdown",
   "metadata": {},
   "source": [
    "## Image input\n",
    "\n",
    "We will use Pillow library to deal with image data."
   ]
  },
  {
   "cell_type": "code",
   "execution_count": null,
   "metadata": {},
   "outputs": [],
   "source": [
    "from PIL import Image\n",
    "from IPython.display import display"
   ]
  },
  {
   "cell_type": "markdown",
   "metadata": {},
   "source": [
    "### local image input"
   ]
  },
  {
   "cell_type": "code",
   "execution_count": null,
   "metadata": {},
   "outputs": [],
   "source": [
    "image = Image.open('./img1.png')\n",
    "\n",
    "# Display the image inline in the notebook\n",
    "display(image)\n"
   ]
  },
  {
   "cell_type": "code",
   "execution_count": null,
   "metadata": {},
   "outputs": [],
   "source": [
    "client = genai.Client(api_key=config.apikey)\n",
    "response = client.models.generate_content(\n",
    "    model=\"gemini-2.0-flash\",\n",
    "    contents=[\"What is this image?\", image])\n",
    "\n",
    "Display(mresponse.text)"
   ]
  },
  {
   "attachments": {},
   "cell_type": "markdown",
   "metadata": {},
   "source": [
    "### Public image"
   ]
  },
  {
   "cell_type": "code",
   "execution_count": null,
   "metadata": {},
   "outputs": [],
   "source": [
    "from io import BytesIO\n",
    "import requests\n",
    "\n",
    "image_path = r\"https://iheartcraftythings.com/wp-content/uploads/2021/04/Harry-Potter-DRAWING-%E2%80%93-STEP-10.jpg\"\n",
    "response = requests.get(image_path)  # Changed variable name from 'image' to 'response'\n",
    "\n",
    "# Open image from the response\n",
    "image2 = Image.open(BytesIO(response.content))\n",
    "\n",
    "# Display the image\n",
    "display(image2)"
   ]
  },
  {
   "cell_type": "code",
   "execution_count": null,
   "metadata": {},
   "outputs": [],
   "source": [
    "client = genai.Client(api_key=config.apikey)\n",
    "response = client.models.generate_content(\n",
    "    model=\"gemini-2.0-flash-exp\",\n",
    "    contents=[\"What is this image?\", image2])\n",
    "\n",
    "print(response.text)"
   ]
  },
  {
   "cell_type": "markdown",
   "metadata": {},
   "source": [
    "## Audio "
   ]
  },
  {
   "cell_type": "code",
   "execution_count": null,
   "metadata": {},
   "outputs": [],
   "source": [
    "from IPython.display import Audio\n",
    "\n",
    "# Replace 'your_file.mp3' with the actual path to your MP3 file\n",
    "Audio(\"./noise.mp3\", autoplay=True)\n"
   ]
  },
  {
   "cell_type": "code",
   "execution_count": null,
   "metadata": {},
   "outputs": [],
   "source": [
    "import os\n",
    "\n",
    "# myfile = client.files.upload(path='noise.mp3')\n",
    "\n",
    "with open('noise.mp3', 'rb') as f:\n",
    "    image_bytes = f.read()\n",
    "\n",
    "response = client.models.generate_content(\n",
    "  model='gemini-2.0-flash',\n",
    "  contents=[\n",
    "    'Describe this audio clip',\n",
    "    types.Part.from_bytes(\n",
    "      data=image_bytes,\n",
    "      mime_type='audio/mp3',\n",
    "    )\n",
    "  ]\n",
    ")\n",
    "\n",
    "print(response.text)"
   ]
  },
  {
   "cell_type": "code",
   "execution_count": null,
   "metadata": {},
   "outputs": [],
   "source": [
    "\n",
    "response = client.models.generate_content(\n",
    "    model=\"gemini-2.0-flash\",\n",
    "    contents=\"Those 2 characters are from different franchises. One from Pokemon, the other from Harry potter. Do you remember what I asked you?.\",\n",
    ")\n",
    "\n",
    "print(response.text)"
   ]
  },
  {
   "cell_type": "markdown",
   "metadata": {},
   "source": [
    "## PDF file input"
   ]
  },
  {
   "cell_type": "markdown",
   "metadata": {},
   "source": [
    "### Use online public pdf file"
   ]
  },
  {
   "cell_type": "code",
   "execution_count": null,
   "metadata": {},
   "outputs": [],
   "source": [
    "import httpx\n",
    "\n",
    "doc_url = \"https://discovery.ucl.ac.uk/id/eprint/10089234/1/343019_3_art_0_py4t4l_convrt.pdf\"  # Replace with the actual URL of your PDF\n",
    "\n",
    "# Retrieve and encode the PDF byte\n",
    "doc_data = httpx.get(doc_url).content\n",
    "\n",
    "prompt = \"Summarize this document\"\n",
    "response = client.models.generate_content(\n",
    "  model=\"gemini-1.5-flash\",\n",
    "  contents=[\n",
    "      types.Part.from_bytes(\n",
    "        data=doc_data,\n",
    "        mime_type='application/pdf',\n",
    "      ),\n",
    "      prompt])\n",
    "display(Markdown(response.text))"
   ]
  },
  {
   "attachments": {},
   "cell_type": "markdown",
   "metadata": {},
   "source": [
    "### Use local pdf file"
   ]
  },
  {
   "cell_type": "code",
   "execution_count": null,
   "metadata": {},
   "outputs": [],
   "source": [
    "import pathlib\n",
    "\n",
    "# Retrieve and encode the PDF byte\n",
    "filename = \"chap2.pdf\"  # Replace with your local PDF filename\n",
    "\n",
    "# Read the local PDF file as bytes\n",
    "with open(filename, \"rb\") as f:\n",
    "    doc_data = f.read()\n",
    "\n",
    "\n",
    "prompt = \"what is this document all about?\"\n",
    "response = client.models.generate_content(\n",
    "  model=\"gemini-1.5-flash\",\n",
    "  contents=[\n",
    "        types.Part.from_bytes(\n",
    "            data=doc_data,\n",
    "            mime_type=\"application/pdf\",\n",
    "        ),\n",
    "      prompt])\n",
    "display(Markdown(response.text))"
   ]
  },
  {
   "cell_type": "markdown",
   "metadata": {},
   "source": [
    "### Structured output\n",
    "\n",
    "In a lot of cases, one might want output to be of a certain structure, like json. Here is how:"
   ]
  },
  {
   "cell_type": "markdown",
   "metadata": {},
   "source": [
    "### Just do it in the prompt"
   ]
  },
  {
   "cell_type": "code",
   "execution_count": 5,
   "metadata": {},
   "outputs": [],
   "source": [
    "\n",
    "prompt = \"\"\"Generate a Harry Potter quiz. 10 Questions. Based on only Book1 to Book4 of the series.\n",
    "\n",
    "Use this JSON schema:\n",
    "\n",
    "questions = {'question': str, 'answer': str}\n",
    "Return: list[questions]\"\"\"\n",
    "\n",
    "response = client.models.generate_content(\n",
    "    model='gemini-2.0-flash',\n",
    "    contents=prompt,\n",
    ")\n",
    "\n",
    "# Use the response as a JSON string.\n",
    "# print(response.text)"
   ]
  },
  {
   "cell_type": "code",
   "execution_count": 7,
   "metadata": {},
   "outputs": [
    {
     "data": {
      "text/html": [
       "<div>\n",
       "<style scoped>\n",
       "    .dataframe tbody tr th:only-of-type {\n",
       "        vertical-align: middle;\n",
       "    }\n",
       "\n",
       "    .dataframe tbody tr th {\n",
       "        vertical-align: top;\n",
       "    }\n",
       "\n",
       "    .dataframe thead th {\n",
       "        text-align: right;\n",
       "    }\n",
       "</style>\n",
       "<table border=\"1\" class=\"dataframe\">\n",
       "  <thead>\n",
       "    <tr style=\"text-align: right;\">\n",
       "      <th></th>\n",
       "      <th>question</th>\n",
       "      <th>answer</th>\n",
       "    </tr>\n",
       "  </thead>\n",
       "  <tbody>\n",
       "    <tr>\n",
       "      <th>0</th>\n",
       "      <td>What is the name of Harry Potter's pet owl?</td>\n",
       "      <td>Hedwig</td>\n",
       "    </tr>\n",
       "    <tr>\n",
       "      <th>1</th>\n",
       "      <td>In which house does the Sorting Hat initially ...</td>\n",
       "      <td>Slytherin</td>\n",
       "    </tr>\n",
       "    <tr>\n",
       "      <th>2</th>\n",
       "      <td>What position does Harry play on the Gryffindo...</td>\n",
       "      <td>Seeker</td>\n",
       "    </tr>\n",
       "    <tr>\n",
       "      <th>3</th>\n",
       "      <td>What is the name of the three-headed dog guard...</td>\n",
       "      <td>Fluffy</td>\n",
       "    </tr>\n",
       "    <tr>\n",
       "      <th>4</th>\n",
       "      <td>What is the name of Ron Weasley's pet rat?</td>\n",
       "      <td>Scabbers</td>\n",
       "    </tr>\n",
       "    <tr>\n",
       "      <th>5</th>\n",
       "      <td>What position does Gilderoy Lockhart teach at ...</td>\n",
       "      <td>Defence Against the Dark Arts</td>\n",
       "    </tr>\n",
       "    <tr>\n",
       "      <th>6</th>\n",
       "      <td>What creature is Hagrid raising in his hut in ...</td>\n",
       "      <td>Buckbeak (a Hippogriff)</td>\n",
       "    </tr>\n",
       "    <tr>\n",
       "      <th>7</th>\n",
       "      <td>Who is the real traitor who betrayed the Potte...</td>\n",
       "      <td>Peter Pettigrew</td>\n",
       "    </tr>\n",
       "    <tr>\n",
       "      <th>8</th>\n",
       "      <td>What is the first task in the Triwizard Tourna...</td>\n",
       "      <td>Retrieving a golden egg from a dragon</td>\n",
       "    </tr>\n",
       "    <tr>\n",
       "      <th>9</th>\n",
       "      <td>Who is the champion selected from Durmstrang f...</td>\n",
       "      <td>Viktor Krum</td>\n",
       "    </tr>\n",
       "  </tbody>\n",
       "</table>\n",
       "</div>"
      ],
      "text/plain": [
       "                                            question  \\\n",
       "0        What is the name of Harry Potter's pet owl?   \n",
       "1  In which house does the Sorting Hat initially ...   \n",
       "2  What position does Harry play on the Gryffindo...   \n",
       "3  What is the name of the three-headed dog guard...   \n",
       "4         What is the name of Ron Weasley's pet rat?   \n",
       "5  What position does Gilderoy Lockhart teach at ...   \n",
       "6  What creature is Hagrid raising in his hut in ...   \n",
       "7  Who is the real traitor who betrayed the Potte...   \n",
       "8  What is the first task in the Triwizard Tourna...   \n",
       "9  Who is the champion selected from Durmstrang f...   \n",
       "\n",
       "                                  answer  \n",
       "0                                 Hedwig  \n",
       "1                              Slytherin  \n",
       "2                                 Seeker  \n",
       "3                                 Fluffy  \n",
       "4                               Scabbers  \n",
       "5          Defence Against the Dark Arts  \n",
       "6                Buckbeak (a Hippogriff)  \n",
       "7                        Peter Pettigrew  \n",
       "8  Retrieving a golden egg from a dragon  \n",
       "9                            Viktor Krum  "
      ]
     },
     "execution_count": 7,
     "metadata": {},
     "output_type": "execute_result"
    }
   ],
   "source": [
    "import json\n",
    "import pandas as pd\n",
    "\n",
    "raw_string = response.text\n",
    "json_string = raw_string.strip(\"```json\\n\")\n",
    "\n",
    "# Parse the JSON string\n",
    "data = json.loads(json_string)\n",
    "\n",
    "pd.DataFrame(data)\n"
   ]
  },
  {
   "cell_type": "code",
   "execution_count": 8,
   "metadata": {},
   "outputs": [
    {
     "data": {
      "text/plain": [
       "[{'question': \"What is the name of Harry Potter's pet owl?\",\n",
       "  'answer': 'Hedwig'},\n",
       " {'question': 'In which house does the Sorting Hat initially consider placing Harry?',\n",
       "  'answer': 'Slytherin'},\n",
       " {'question': 'What position does Harry play on the Gryffindor Quidditch team?',\n",
       "  'answer': 'Seeker'},\n",
       " {'question': \"What is the name of the three-headed dog guarding the trapdoor in Philosopher's Stone?\",\n",
       "  'answer': 'Fluffy'},\n",
       " {'question': \"What is the name of Ron Weasley's pet rat?\",\n",
       "  'answer': 'Scabbers'},\n",
       " {'question': 'What position does Gilderoy Lockhart teach at Hogwarts in Chamber of Secrets?',\n",
       "  'answer': 'Defence Against the Dark Arts'},\n",
       " {'question': 'What creature is Hagrid raising in his hut in Prisoner of Azkaban which gets him into trouble?',\n",
       "  'answer': 'Buckbeak (a Hippogriff)'},\n",
       " {'question': 'Who is the real traitor who betrayed the Potters to Voldemort?',\n",
       "  'answer': 'Peter Pettigrew'},\n",
       " {'question': 'What is the first task in the Triwizard Tournament in Goblet of Fire?',\n",
       "  'answer': 'Retrieving a golden egg from a dragon'},\n",
       " {'question': 'Who is the champion selected from Durmstrang for the Triwizard Tournament?',\n",
       "  'answer': 'Viktor Krum'}]"
      ]
     },
     "execution_count": 8,
     "metadata": {},
     "output_type": "execute_result"
    }
   ],
   "source": [
    "data"
   ]
  },
  {
   "cell_type": "code",
   "execution_count": null,
   "metadata": {},
   "outputs": [],
   "source": []
  }
 ],
 "metadata": {
  "kernelspec": {
   "display_name": "base",
   "language": "python",
   "name": "python3"
  },
  "language_info": {
   "codemirror_mode": {
    "name": "ipython",
    "version": 3
   },
   "file_extension": ".py",
   "mimetype": "text/x-python",
   "name": "python",
   "nbconvert_exporter": "python",
   "pygments_lexer": "ipython3",
   "version": "3.9.13"
  },
  "orig_nbformat": 4,
  "vscode": {
   "interpreter": {
    "hash": "2b5906e91763078206376b6b8ba3ae8a90945795a5af8365bcb672e23c1ce9d8"
   }
  }
 },
 "nbformat": 4,
 "nbformat_minor": 2
}
